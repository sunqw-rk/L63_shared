{
 "cells": [
  {
   "cell_type": "code",
   "execution_count": 1,
   "metadata": {
    "scrolled": false
   },
   "outputs": [
    {
     "data": {
      "text/plain": [
       "\"\\n#------------------------------------------------------------------\\n# Run smd to generate a nature run with the specified parameters\\n#------------------------------------------------------------------\\nprint('Run Lorenz63 model')\\n#trajectory = smd.run(x0, tvec, t_output)  # run odeint\\n#trajectory = trajectory.y\\ntrajectory = smd.run_rk4(t0, t1, 0.01, x0)\\ntrajectory = trajectory[1000:,:]\\ntrajectory = trajectory.T\\nprint(trajectory)\\nprint(len(trajectory))\\n#sv.setTrajectory(trajectory)\\ntrajectory_flatten = trajectory.flatten()\\nshell = time\\nfor i in range(3-1):\\n    shell = np.hstack((shell,time))\\n    \\n#trajectory_flatten_withtime = np.vstack((trajectory_flatten,shell))\\n\\n#------------------------------------------------------------------\\n# Store the nature run data\\n#------------------------------------------------------------------\\n#outfile = name+'.pkl'\\n#sv.save(outfile)\\n\""
      ]
     },
     "execution_count": 1,
     "metadata": {},
     "output_type": "execute_result"
    }
   ],
   "source": [
    "from class_lorenz63_mdl import LORENZ63\n",
    "from class_state_vec import state_vector\n",
    "import matplotlib.pyplot as plt\n",
    "import numpy as np\n",
    "import math\n",
    "import random\n",
    "\n",
    "#------------------------------------------------------------------\n",
    "# Setup initial state\n",
    "#------------------------------------------------------------------\n",
    "\n",
    "name = 'lorenz63_run'\n",
    "\n",
    "t0=0\n",
    "t1 = 410\n",
    "dt=0.01\n",
    "dt_output = 0.01 \n",
    "\n",
    "sigma = 10.0\n",
    "beta = 8.0/3.0\n",
    "rho = 28.0\n",
    "\n",
    "random.seed(2)\n",
    "x0 = np.random.normal(0,np.sqrt(2),3)\n",
    "\n",
    "tvec = np.arange(t0, t1, dt)\n",
    "t_output = np.arange(t0+10, t1, dt_output) #730 is 10 years, throw the first ten years' results\n",
    "time = t_output\n",
    "\n",
    "\n",
    "#------------------------------------------------------------------\n",
    "# Setup state vector object\n",
    "#------------------------------------------------------------------\n",
    "sv = state_vector(al=x0, t=np.arange(t0, t1-10, dt_output), name=name)  #.....................\n",
    "\n",
    "#------------------------------------------------------------------\n",
    "# Initialize the SIIR object\n",
    "#------------------------------------------------------------------\n",
    "smd = LORENZ63(sigma = 10.0, beta = 8.0/3.0, rho = 28.0)\n",
    "#you don't need to repeat this,begin\n",
    "'''\n",
    "#------------------------------------------------------------------\n",
    "# Run smd to generate a nature run with the specified parameters\n",
    "#------------------------------------------------------------------\n",
    "print('Run Lorenz63 model')\n",
    "#trajectory = smd.run(x0, tvec, t_output)  # run odeint\n",
    "#trajectory = trajectory.y\n",
    "trajectory = smd.run_rk4(t0, t1, 0.01, x0)\n",
    "trajectory = trajectory[1000:,:]\n",
    "trajectory = trajectory.T\n",
    "print(trajectory)\n",
    "print(len(trajectory))\n",
    "#sv.setTrajectory(trajectory)\n",
    "trajectory_flatten = trajectory.flatten()\n",
    "shell = time\n",
    "for i in range(3-1):\n",
    "    shell = np.hstack((shell,time))\n",
    "    \n",
    "#trajectory_flatten_withtime = np.vstack((trajectory_flatten,shell))\n",
    "\n",
    "#------------------------------------------------------------------\n",
    "# Store the nature run data\n",
    "#------------------------------------------------------------------\n",
    "#outfile = name+'.pkl'\n",
    "#sv.save(outfile)\n",
    "'''\n",
    "#you don't need to repeat this,end\n"
   ]
  },
  {
   "cell_type": "code",
   "execution_count": 2,
   "metadata": {},
   "outputs": [],
   "source": [
    "infile = 'lorenz63_run.pkl'\n",
    "sv = state_vector()\n",
    "sv = sv.load(infile)\n",
    "trajectory = sv.getTrajectory()"
   ]
  },
  {
   "cell_type": "code",
   "execution_count": 3,
   "metadata": {},
   "outputs": [
    {
     "data": {
      "text/plain": [
       "(3, 8000000)"
      ]
     },
     "execution_count": 3,
     "metadata": {},
     "output_type": "execute_result"
    }
   ],
   "source": [
    "np.shape(trajectory)"
   ]
  }
 ],
 "metadata": {
  "kernelspec": {
   "display_name": "Python 3",
   "language": "python",
   "name": "python3"
  },
  "language_info": {
   "codemirror_mode": {
    "name": "ipython",
    "version": 3
   },
   "file_extension": ".py",
   "mimetype": "text/x-python",
   "name": "python",
   "nbconvert_exporter": "python",
   "pygments_lexer": "ipython3",
   "version": "3.8.10"
  }
 },
 "nbformat": 4,
 "nbformat_minor": 4
}

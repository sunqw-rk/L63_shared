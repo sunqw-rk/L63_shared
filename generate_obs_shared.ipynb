{
 "cells": [
  {
   "cell_type": "code",
   "execution_count": 1,
   "metadata": {
    "scrolled": false
   },
   "outputs": [
    {
     "name": "stdout",
     "output_type": "stream",
     "text": [
      "xdim = 3\n",
      "maxit =  8000000\n",
      "standard deviation of each state = \n",
      "[7.93480902 9.01853611 8.6225804 ]\n",
      "observe_full_state\n",
      "Position:\n",
      "[[0 0 0 ... 0 0 0]\n",
      " [1 1 1 ... 1 1 1]\n",
      " [2 2 2 ... 2 2 2]]\n",
      "Time interval:\n",
      "[0]\n",
      "values:\n",
      "[[11.16406581 10.59707959  9.47238684 ... -4.52003295 -4.21116533\n",
      "  -4.83741255]\n",
      " [ 8.53868217 11.04045515 10.39731191 ... -1.50709056 -2.27957562\n",
      "  -0.84943841]\n",
      " [22.10374849 25.21370354 23.39725329 ... 29.09987817 29.46993813\n",
      "  27.462403  ]]\n",
      "observe_full_state\n"
     ]
    }
   ],
   "source": [
    "import numpy as np\n",
    "from class_state_vec import state_vector\n",
    "from class_obs import obs_da\n",
    "import random as rd\n",
    "import pandas as pd\n",
    "\n",
    "infile = 'lorenz63_run.pkl'\n",
    "sv = state_vector()\n",
    "sv = sv.load(infile)\n",
    "x_nature = sv.getTrajectory()\n",
    "xdim, maxit = np.shape(x_nature)\n",
    "print('xdim =', xdim)    #row\n",
    "print('maxit = ', maxit) #column\n",
    "\n",
    "outfile = 'y_obs.pkl'\n",
    "obs = obs_da(name = 'observe_full_state')\n",
    "yo = np.zeros_like(x_nature)\n",
    "std_nature = np.zeros(xdim)\n",
    "\n",
    "#compute the standard deviation of each state\n",
    "\n",
    "for i in range(xdim):\n",
    "    std_nature[i] = np.std(x_nature[i,:])\n",
    "    \n",
    "print('standard deviation of each state = ')\n",
    "print(std_nature)\n",
    "\n",
    "#generate synthetic observations\n",
    "\n",
    "for i in range(xdim):\n",
    "    yo[i,:] = x_nature[i,:] + np.random.normal(0,np.sqrt(2),maxit)\n",
    "    \n",
    "\n",
    "pos = np.zeros_like(yo)\n",
    "for i in range(maxit):\n",
    "    pos[:,i] = list(range(0,3))\n",
    "\n",
    "obs.setVal(yo)\n",
    "obs.setPos(pos)\n",
    "\n",
    "print(obs)\n",
    "\n",
    "#--------------------------------------------------------------------------------\n",
    "# Store the true and noisy observations\n",
    "#--------------------------------------------------------------------------------\n",
    "obs.save(outfile)\n",
    "\n",
    "\n"
   ]
  },
  {
   "cell_type": "code",
   "execution_count": null,
   "metadata": {},
   "outputs": [],
   "source": []
  }
 ],
 "metadata": {
  "kernelspec": {
   "display_name": "Python 3",
   "language": "python",
   "name": "python3"
  },
  "language_info": {
   "codemirror_mode": {
    "name": "ipython",
    "version": 3
   },
   "file_extension": ".py",
   "mimetype": "text/x-python",
   "name": "python",
   "nbconvert_exporter": "python",
   "pygments_lexer": "ipython3",
   "version": "3.8.10"
  }
 },
 "nbformat": 4,
 "nbformat_minor": 4
}
